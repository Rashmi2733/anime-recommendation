{
 "cells": [
  {
   "cell_type": "code",
   "execution_count": null,
   "id": "25269da9",
   "metadata": {},
   "outputs": [
    {
     "name": "stdout",
     "output_type": "stream",
     "text": [
      "Most similar anime to 'One Piece' (SIM): One Piece Film: Strong World\n"
     ]
    },
    {
     "data": {
      "text/plain": [
       "'One Piece Film: Strong World'"
      ]
     },
     "execution_count": 33,
     "metadata": {},
     "output_type": "execute_result"
    }
   ],
   "source": [
    "import pandas as pd\n",
    "import numpy as np\n",
    "import sentence_transformers as st\n",
    "\n",
    "# from sentence_transformers import SentenceTransformer\n",
    "\n",
    "df = pd.read_csv(r\"D:\\DS\\Project\\anime-recommendation\\anime-dataset-2023.csv\")\n",
    "\n",
    "# print(df.columns)\n",
    "\n",
    "\n",
    "final = df.join(df['Genres'].str.get_dummies(sep=', '))\n",
    "final['Episodes'] = final['Episodes'].replace('UNKNOWN', np.nan).astype(float)\n",
    "# print(final.sample(3))\n",
    "\n",
    "def row_to_sentence(row):\n",
    "    genres = [genre for genre in ['Action', 'Adventure', 'Avant Garde', 'Award Winning', 'Boys Love',\n",
    "       'Comedy', 'Drama', 'Erotica', 'Fantasy', 'Girls Love',\n",
    "       'Gourmet',  'Horror', 'Mystery', 'Romance', 'Sci-Fi',\n",
    "       'Slice of Life', 'Sports', 'Supernatural', 'Suspense']\n",
    "              if row[genre]]\n",
    "    genre_str = ', '.join(genres)\n",
    "    return f\"{row['Name']} ({row['Type']}): {row['Synopsis']}, {row['Score']},\\\n",
    "    Genres: {genre_str}, Episodes: {row['Episodes']}, Status: {row['Status']}, \\\n",
    "    Producers: {row['Producers']}, Licensors: {row['Licensors']}, Studios: {row['Studios']}, \\\n",
    "    Source: {row['Source']}, Duration: {row['Duration']}, Rating: {row['Rating']}.\"\n",
    "\n",
    "df500 = final[final['Score']!='UNKNOWN'].sort_values(by='Score', ascending = False).head(500)\n",
    "# df500.sample(3)\n",
    "\n",
    "sentences500 = df500.apply(row_to_sentence, axis=1).tolist()\n",
    "df500['sentence'] = sentences500\n",
    "\n",
    "model = st.SentenceTransformer(\"multi-qa-mpnet-base-cos-v1\")\n",
    "\n",
    "passage_embeddings = model.encode(sentences500)\n",
    "\n",
    "\n",
    "anime_name = input('Please input an anime name:')\n",
    "    # 'Fullmetal Alchemist'\n"
   ]
  },
  {
   "cell_type": "code",
   "execution_count": 35,
   "id": "d30f10a7",
   "metadata": {},
   "outputs": [
    {
     "name": "stdout",
     "output_type": "stream",
     "text": [
      "Most similar anime to 'One Piece' (SIM): One Piece Film: Strong World\n"
     ]
    },
    {
     "data": {
      "text/plain": [
       "'One Piece Film: Strong World'"
      ]
     },
     "execution_count": 35,
     "metadata": {},
     "output_type": "execute_result"
    }
   ],
   "source": [
    "def recommend(anime_name):\n",
    "    chosen_id = df500[df500['Name']==anime_name].index[0]\n",
    "    syn = df500['sentence'][chosen_id]\n",
    "    query_embedding = model.encode(syn)\n",
    "    # distances, indices = nn_model.kneighbors([query_embedding]) ##Comapring the query embedding but need to add that in the recommend fucntion as well\n",
    "    similarity = model.similarity(query_embedding, passage_embeddings)[0]\n",
    "    sorted_indices = np.argsort(similarity)\n",
    "\n",
    "    second_best_index = sorted_indices[-2].item()\n",
    "    # print(\"Index of 2nd most similar item:\", second_best_index)\n",
    "    most_similar_anime = df500.iloc[second_best_index]['Name']\n",
    "    print(f\"Most similar anime to '{anime_name}' (SIM):\", most_similar_anime)\n",
    "    return most_similar_anime\n",
    "\n",
    "recommend(anime_name)"
   ]
  },
  {
   "cell_type": "code",
   "execution_count": 36,
   "id": "4448ca77",
   "metadata": {},
   "outputs": [
    {
     "name": "stdout",
     "output_type": "stream",
     "text": [
      "Most similar anime to 'One Piece' (KNN): One Piece Film: Strong World\n"
     ]
    },
    {
     "data": {
      "text/plain": [
       "'One Piece Film: Strong World'"
      ]
     },
     "execution_count": 36,
     "metadata": {},
     "output_type": "execute_result"
    }
   ],
   "source": [
    "##Method two\n",
    "from sklearn.neighbors import NearestNeighbors\n",
    "\n",
    "nn_model = NearestNeighbors(n_neighbors=2, metric='cosine').fit(passage_embeddings)\n",
    "\n",
    "def knn_recommend(anime_name):\n",
    "    chosen_id = df500[df500['Name']==anime_name].index[0]\n",
    "    syn = df500['sentence'][chosen_id]\n",
    "    query_embedding2 = model.encode(syn)\n",
    "    distances, indices = nn_model.kneighbors([query_embedding2]) ##Comapring the query embedding but need to add that in the recommend fucntion as well\n",
    "    most_similar_anime = df500.iloc[indices[0]]['Name'].tolist()[1:][0]\n",
    "    print(f\"Most similar anime to '{anime_name}' (KNN):\", most_similar_anime)\n",
    "    return most_similar_anime\n",
    "\n",
    "knn_recommend('One Piece')"
   ]
  },
  {
   "cell_type": "code",
   "execution_count": 37,
   "id": "dde6712f",
   "metadata": {},
   "outputs": [],
   "source": [
    "import ipywidgets as widgets\n",
    "from IPython.display import display"
   ]
  },
  {
   "cell_type": "code",
   "execution_count": 38,
   "id": "d91d5bdf",
   "metadata": {},
   "outputs": [
    {
     "data": {
      "application/vnd.jupyter.widget-view+json": {
       "model_id": "c1ec5922b0db49a2a36ff7a06167d537",
       "version_major": 2,
       "version_minor": 0
      },
      "text/plain": [
       "Dropdown(description='Anime:', layout=Layout(width='50%'), options=('Fullmetal Alchemist: Brotherhood', 'Bleac…"
      ]
     },
     "metadata": {},
     "output_type": "display_data"
    },
    {
     "data": {
      "application/vnd.jupyter.widget-view+json": {
       "model_id": "75948a4392924b87baf2fa6aa5ed920b",
       "version_major": 2,
       "version_minor": 0
      },
      "text/plain": [
       "Button(description='Recommend', style=ButtonStyle())"
      ]
     },
     "metadata": {},
     "output_type": "display_data"
    },
    {
     "data": {
      "application/vnd.jupyter.widget-view+json": {
       "model_id": "e9bc7e3d3d704330b010c5689a2f1cee",
       "version_major": 2,
       "version_minor": 0
      },
      "text/plain": [
       "Output()"
      ]
     },
     "metadata": {},
     "output_type": "display_data"
    }
   ],
   "source": [
    "#Dropdown option instead of input option\n",
    "\n",
    "anime_dropdown = widgets.Dropdown(\n",
    "    options=df500['Name'].tolist(),\n",
    "    description='Anime:',\n",
    "    style={'description_width': 'initial'},\n",
    "    layout=widgets.Layout(width='50%')\n",
    ")\n",
    "\n",
    "# Output widget\n",
    "output = widgets.Output()\n",
    "\n",
    "recommend_button = widgets.Button(description=\"Recommend\")\n",
    "\n",
    "# Link button to the action\n",
    "def on_button_clicked(b):\n",
    "    with output:\n",
    "        output.clear_output()  # Clear previous output\n",
    "        recommend(anime_dropdown.value)\n",
    "        knn_recommend(anime_dropdown.value)\n",
    "        # print(f\"Most similar anime to '{anime_dropdown.value}': {result}\") #redundant\n",
    "\n",
    "recommend_button.on_click(on_button_clicked)\n",
    "\n",
    "# Display\n",
    "display(anime_dropdown, recommend_button, output)"
   ]
  },
  {
   "cell_type": "code",
   "execution_count": null,
   "id": "87be94d6",
   "metadata": {},
   "outputs": [],
   "source": []
  }
 ],
 "metadata": {
  "kernelspec": {
   "display_name": "base",
   "language": "python",
   "name": "python3"
  },
  "language_info": {
   "codemirror_mode": {
    "name": "ipython",
    "version": 3
   },
   "file_extension": ".py",
   "mimetype": "text/x-python",
   "name": "python",
   "nbconvert_exporter": "python",
   "pygments_lexer": "ipython3",
   "version": "3.9.7"
  }
 },
 "nbformat": 4,
 "nbformat_minor": 5
}
